{
 "cells": [
  {
   "cell_type": "code",
   "execution_count": 1,
   "metadata": {
    "ExecuteTime": {
     "end_time": "2020-09-06T20:11:27.875579Z",
     "start_time": "2020-09-06T20:11:26.990502Z"
    }
   },
   "outputs": [
    {
     "name": "stderr",
     "output_type": "stream",
     "text": [
      "/home/pankaj/anaconda3/envs/fastai2_gpu/lib/python3.6/site-packages/fastcore/dispatch.py:75: UserWarning: show_batch has default params. These will be ignored.\n",
      "  if f and getattr(f,'__defaults__',None): warn(f\"{f.__name__} has default params. These will be ignored.\")\n",
      "/home/pankaj/anaconda3/envs/fastai2_gpu/lib/python3.6/site-packages/fastcore/dispatch.py:75: UserWarning: show_results has default params. These will be ignored.\n",
      "  if f and getattr(f,'__defaults__',None): warn(f\"{f.__name__} has default params. These will be ignored.\")\n",
      "/home/pankaj/anaconda3/envs/fastai2_gpu/lib/python3.6/site-packages/fastcore/dispatch.py:75: UserWarning: create has default params. These will be ignored.\n",
      "  if f and getattr(f,'__defaults__',None): warn(f\"{f.__name__} has default params. These will be ignored.\")\n",
      "/home/pankaj/anaconda3/envs/fastai2_gpu/lib/python3.6/site-packages/fastcore/dispatch.py:75: UserWarning: show_batch has default params. These will be ignored.\n",
      "  if f and getattr(f,'__defaults__',None): warn(f\"{f.__name__} has default params. These will be ignored.\")\n",
      "/home/pankaj/anaconda3/envs/fastai2_gpu/lib/python3.6/site-packages/fastcore/dispatch.py:75: UserWarning: show_results has default params. These will be ignored.\n",
      "  if f and getattr(f,'__defaults__',None): warn(f\"{f.__name__} has default params. These will be ignored.\")\n",
      "/home/pankaj/anaconda3/envs/fastai2_gpu/lib/python3.6/site-packages/fastcore/dispatch.py:75: UserWarning: plot_top_losses has default params. These will be ignored.\n",
      "  if f and getattr(f,'__defaults__',None): warn(f\"{f.__name__} has default params. These will be ignored.\")\n"
     ]
    }
   ],
   "source": [
    "from fastai.vision.all import *\n",
    "from fastai.vision.widgets import *"
   ]
  },
  {
   "cell_type": "code",
   "execution_count": 2,
   "metadata": {
    "ExecuteTime": {
     "end_time": "2020-09-06T20:11:27.971772Z",
     "start_time": "2020-09-06T20:11:27.877106Z"
    }
   },
   "outputs": [],
   "source": [
    "model = load_learner(\"model_01.pkl\")"
   ]
  },
  {
   "cell_type": "code",
   "execution_count": 3,
   "metadata": {
    "ExecuteTime": {
     "end_time": "2020-09-06T20:11:27.986563Z",
     "start_time": "2020-09-06T20:11:27.972903Z"
    }
   },
   "outputs": [],
   "source": [
    "btn_upload = widgets.FileUpload()\n",
    "out_pl = widgets.Output()\n",
    "lbl_pred = widgets.Label()"
   ]
  },
  {
   "cell_type": "code",
   "execution_count": 4,
   "metadata": {
    "ExecuteTime": {
     "end_time": "2020-09-06T20:11:27.997334Z",
     "start_time": "2020-09-06T20:11:27.987816Z"
    }
   },
   "outputs": [],
   "source": [
    "def on_data_change(change):\n",
    "    lbl_pred.value = ''\n",
    "    img = PILImage.create(btn_upload.data[-1])\n",
    "    out_pl.clear_output()\n",
    "    with out_pl: display(img.to_thumb(128,128))\n",
    "    pred,pred_idx,probs = model.predict(img)\n",
    "    lbl_pred.value = f'Prediction: {pred}; Probability: {probs[pred_idx]:.04f}'"
   ]
  },
  {
   "cell_type": "code",
   "execution_count": 5,
   "metadata": {
    "ExecuteTime": {
     "end_time": "2020-09-06T20:11:28.008139Z",
     "start_time": "2020-09-06T20:11:27.998601Z"
    }
   },
   "outputs": [],
   "source": [
    "btn_upload.observe(on_data_change, names=['data'])\n"
   ]
  },
  {
   "cell_type": "code",
   "execution_count": 6,
   "metadata": {
    "ExecuteTime": {
     "end_time": "2020-09-06T20:11:28.027427Z",
     "start_time": "2020-09-06T20:11:28.008988Z"
    }
   },
   "outputs": [
    {
     "data": {
      "application/vnd.jupyter.widget-view+json": {
       "model_id": "43530d047e7a44fbaae868722e7f28a4",
       "version_major": 2,
       "version_minor": 0
      },
      "text/plain": [
       "VBox(children=(Label(value='Upload your device, Dr. Backer!'), FileUpload(value={}, description='Upload'), Out…"
      ]
     },
     "metadata": {},
     "output_type": "display_data"
    },
    {
     "data": {
      "text/html": [],
      "text/plain": [
       "<IPython.core.display.HTML object>"
      ]
     },
     "metadata": {},
     "output_type": "display_data"
    }
   ],
   "source": [
    "display(VBox([widgets.Label('Upload your device, Dr. Backer!'), btn_upload, out_pl, lbl_pred]))\n"
   ]
  }
 ],
 "metadata": {
  "kernelspec": {
   "display_name": "Python 3",
   "language": "python",
   "name": "python3"
  },
  "language_info": {
   "codemirror_mode": {
    "name": "ipython",
    "version": 3
   },
   "file_extension": ".py",
   "mimetype": "text/x-python",
   "name": "python",
   "nbconvert_exporter": "python",
   "pygments_lexer": "ipython3",
   "version": "3.6.11"
  },
  "toc": {
   "base_numbering": 1,
   "nav_menu": {},
   "number_sections": true,
   "sideBar": true,
   "skip_h1_title": false,
   "title_cell": "Table of Contents",
   "title_sidebar": "Contents",
   "toc_cell": false,
   "toc_position": {},
   "toc_section_display": true,
   "toc_window_display": false
  }
 },
 "nbformat": 4,
 "nbformat_minor": 4
}
